{
 "metadata": {
  "name": "",
  "signature": "sha256:0e56525ee7031468f22a4301e99b17401af3fdcb0197a2c94be081f42e1dc137"
 },
 "nbformat": 3,
 "nbformat_minor": 0,
 "worksheets": [
  {
   "cells": [
    {
     "cell_type": "code",
     "collapsed": false,
     "input": [
      "from datetime import datetime\n",
      "import os\n",
      "\n",
      "HDFS_URI = os.environ['HDFS_URI']"
     ],
     "language": "python",
     "metadata": {},
     "outputs": [],
     "prompt_number": 1
    },
    {
     "cell_type": "code",
     "collapsed": false,
     "input": [
      "# Check that there is a Spark Context\n",
      "\"Spark version: %s\" % sc.version"
     ],
     "language": "python",
     "metadata": {},
     "outputs": [
      {
       "metadata": {},
       "output_type": "pyout",
       "prompt_number": 2,
       "text": [
        "u'Spark version: 1.1.0'"
       ]
      }
     ],
     "prompt_number": 2
    },
    {
     "cell_type": "code",
     "collapsed": false,
     "input": [
      "# Load Divolte Avro files as RDD\n",
      "schema_string = open('../avro-schema/src/main/resources/JavadocEventRecord.avsc').read()\n",
      "conf = { 'avro.schema.input.key': schema_string }\n",
      "\n",
      "# Hadoop files are always read as an RDD of key/value pairs. Avro files contain only keys, however.\n",
      "event_key_values_rdd = sc.newAPIHadoopFile(\n",
      "HDFS_URI + '/divolte/published/*.avro',\n",
      "'org.apache.avro.mapreduce.AvroKeyInputFormat',\n",
      "'org.apache.avro.mapred.AvroKey',\n",
      "'org.apache.hadoop.io.NullWritable',\n",
      "keyConverter='io.divolte.spark.pyspark.avro.AvroWrapperToJavaConverter',\n",
      "conf=conf)\n",
      "\n",
      "# We map out the keys, so our RDD only contains the actual Avro records.\n",
      "events_rdd = event_key_values_rdd.map(lambda (k,v): k)"
     ],
     "language": "python",
     "metadata": {},
     "outputs": [],
     "prompt_number": 3
    },
    {
     "cell_type": "code",
     "collapsed": false,
     "input": [
      "# Keep the events in cluster memory and return the event count in our data set\n",
      "events_rdd.cache()\n",
      "events_rdd.count()"
     ],
     "language": "python",
     "metadata": {},
     "outputs": [
      {
       "metadata": {},
       "output_type": "pyout",
       "prompt_number": 4,
       "text": [
        "54"
       ]
      }
     ],
     "prompt_number": 4
    },
    {
     "cell_type": "code",
     "collapsed": false,
     "input": [
      "# Show a single event record\n",
      "events_rdd.take(1)"
     ],
     "language": "python",
     "metadata": {},
     "outputs": [
      {
       "metadata": {},
       "output_type": "pyout",
       "prompt_number": 5,
       "text": [
        "[{u'detectedDuplicate': False,\n",
        "  u'eventType': u'pageView',\n",
        "  u'firstInSession': True,\n",
        "  u'javaPackage': u'/net/karneim/pojobuilder',\n",
        "  u'javaType': None,\n",
        "  u'location': u'http://localhost:8080/net/karneim/pojobuilder/package-summary.html',\n",
        "  u'pageType': u'package-summary',\n",
        "  u'pageViewId': u'0:f~t7BWuJigNYpbCeyMCPGNsvucTrjuhF',\n",
        "  u'partyId': u'0:i1rst4pt:_020Z2MiwLUNpNr73~gq4N1Y_IPvSoWb',\n",
        "  u'referer': u'http://localhost:8080/',\n",
        "  u'remoteHost': u'127.0.0.1',\n",
        "  u'screenPixelHeight': 967,\n",
        "  u'screenPixelWidth': 1680,\n",
        "  u'sessionId': u'0:i1s0ejh5:VOIBHrZxNQ9DwPgl4p_S6~5iicTnRYRj',\n",
        "  u'timestamp': 1414425467432,\n",
        "  u'userAgentDeviceCategory': u'Personal computer',\n",
        "  u'userAgentFamily': u'Chrome',\n",
        "  u'userAgentName': u'Chrome',\n",
        "  u'userAgentOsFamily': u'OS X',\n",
        "  u'userAgentOsVendor': u'Apple Computer, Inc.',\n",
        "  u'userAgentOsVersion': u'10.9.5',\n",
        "  u'userAgentString': u'Mozilla/5.0 (Macintosh; Intel Mac OS X 10_9_5) AppleWebKit/537.36 (KHTML, like Gecko) Chrome/38.0.2125.104 Safari/537.36',\n",
        "  u'userAgentType': u'Browser',\n",
        "  u'userAgentVendor': u'Google Inc.',\n",
        "  u'userAgentVersion': u'38.0.2125.104',\n",
        "  u'viewportPixelHeight': 895,\n",
        "  u'viewportPixelWidth': 1331}]"
       ]
      }
     ],
     "prompt_number": 5
    },
    {
     "cell_type": "code",
     "collapsed": false,
     "input": [
      "# Find session with most clicks\n",
      "session_id, count = events_rdd\\\n",
      ".map(lambda event: (event['sessionId'], 1))\\\n",
      ".reduceByKey(lambda x,y: x + y)\\\n",
      ".reduce(lambda x,y: max(x,y, key=lambda (e,c): c))\n",
      "\n",
      "session_id, count"
     ],
     "language": "python",
     "metadata": {},
     "outputs": [
      {
       "metadata": {},
       "output_type": "pyout",
       "prompt_number": 6,
       "text": [
        "(u'0:i1s0f49f:mUUyB8Ot3QhpMs4ehshCPDz4LI_9GoIY', 24)"
       ]
      }
     ],
     "prompt_number": 6
    },
    {
     "cell_type": "code",
     "collapsed": false,
     "input": [
      "# For the longest session, print out first 10 URLs with timestamp\n",
      "\n",
      "def timestamp_to_string(ts):\n",
      "    return datetime.fromtimestamp(ts / 1000.0).strftime('%Y-%m-%d %H:%M:%S')\n",
      "\n",
      "events_rdd\\\n",
      ".filter(lambda event: event['sessionId'] == session_id)\\\n",
      ".sortBy(lambda event: event['timestamp'])\\\n",
      ".map(lambda event: (event['location'], event['timestamp']))\\\n",
      ".map(lambda (loc, ts): \"%s @ %s\" % (str(loc), timestamp_to_string(ts)) )\\\n",
      ".take(10)"
     ],
     "language": "python",
     "metadata": {},
     "outputs": [
      {
       "metadata": {},
       "output_type": "pyout",
       "prompt_number": 7,
       "text": [
        "['http://localhost:8080/net/karneim/pojobuilder/package-summary.html @ 2014-10-27 16:58:14',\n",
        " 'http://localhost:8080/net/karneim/pojobuilder/AnnotationProcessor.html @ 2014-10-27 16:58:19',\n",
        " 'http://localhost:8080/net/karneim/pojobuilder/BuilderModelProducer.html @ 2014-10-27 16:58:20',\n",
        " 'http://localhost:8080/net/karneim/pojobuilder/BuilderSourceGenerator.html @ 2014-10-27 16:58:21',\n",
        " 'http://localhost:8080/net/karneim/pojobuilder/BuildException.html @ 2014-10-27 16:58:21',\n",
        " 'http://localhost:8080/net/karneim/pojobuilder/FactoryProperties.html @ 2014-10-27 16:58:22',\n",
        " 'http://localhost:8080/net/karneim/pojobuilder/GeneratePojoBuilder.html @ 2014-10-27 16:58:22',\n",
        " 'http://localhost:8080/net/karneim/pojobuilder/GeneratePojoBuilderProcessor.html @ 2014-10-27 16:58:23',\n",
        " 'http://localhost:8080/net/karneim/pojobuilder/Input.html @ 2014-10-27 16:58:24',\n",
        " 'http://localhost:8080/net/karneim/pojobuilder/Output.html @ 2014-10-27 16:58:24']"
       ]
      }
     ],
     "prompt_number": 7
    }
   ],
   "metadata": {}
  }
 ]
}