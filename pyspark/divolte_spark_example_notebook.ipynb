{
 "metadata": {
  "name": "",
  "signature": "sha256:4c27cfd9db4fba0f9f29161e6e9d800571751a43b213fae544071c49b0002eb1"
 },
 "nbformat": 3,
 "nbformat_minor": 0,
 "worksheets": [
  {
   "cells": [
    {
     "cell_type": "heading",
     "level": 1,
     "metadata": {},
     "source": [
      "Divolte Example: Processing with Spark"
     ]
    },
    {
     "cell_type": "markdown",
     "metadata": {},
     "source": [
      "This notebook contains some examples for working with data collected by the Divolte Collector.\n",
      "Cells should be executed in the order they are listed in the notebook.\n",
      "\n",
      "We demonstrate the following 3 things:\n",
      "\n",
      "1. Counting the total number of events in the log files.\n",
      "2. Displaying an arbitrary event.\n",
      "3. Determinging the ID of the session with the most events, along with the first 10 events from that session.\n",
      "\n",
      "For comparison, these are also demonstrated in the standalone python and scala examples."
     ]
    },
    {
     "cell_type": "markdown",
     "metadata": {},
     "source": [
      "---"
     ]
    },
    {
     "cell_type": "markdown",
     "metadata": {},
     "source": [
      "Start with the modules that we need for the rest of the notebook:"
     ]
    },
    {
     "cell_type": "code",
     "collapsed": false,
     "input": [
      "from datetime import datetime\n",
      "import json"
     ],
     "language": "python",
     "metadata": {},
     "outputs": [],
     "prompt_number": 1
    },
    {
     "cell_type": "markdown",
     "metadata": {},
     "source": [
      "Configure the location of the logs that will be processed:"
     ]
    },
    {
     "cell_type": "code",
     "collapsed": false,
     "input": [
      "HDFS_URI = \"/divolte/published/*.avro\""
     ],
     "language": "python",
     "metadata": {},
     "outputs": [],
     "prompt_number": 2
    },
    {
     "cell_type": "markdown",
     "metadata": {},
     "source": [
      "Create the RDD containing all records.\n",
      "(Hadoop files are always read as an RDD of key/value pairs. Avro files contain only keys, however, so we immediately discard the values.)"
     ]
    },
    {
     "cell_type": "code",
     "collapsed": false,
     "input": [
      "events_rdd = sc.newAPIHadoopFile(\n",
      "    HDFS_URI,\n",
      "    'org.apache.avro.mapreduce.AvroKeyInputFormat',\n",
      "    'org.apache.avro.mapred.AvroKey',\n",
      "    'org.apache.hadoop.io.NullWritable',\n",
      "    keyConverter='io.divolte.spark.pyspark.avro.AvroWrapperToJavaConverter').map(lambda (k,v): k)"
     ],
     "language": "python",
     "metadata": {},
     "outputs": [],
     "prompt_number": 3
    },
    {
     "cell_type": "markdown",
     "metadata": {},
     "source": [
      "We are going to process the RDD several times, so cache the original set in cluster memory so it doesn't have to be loaded each time."
     ]
    },
    {
     "cell_type": "code",
     "collapsed": false,
     "input": [
      "events_rdd.cache()"
     ],
     "language": "python",
     "metadata": {},
     "outputs": [
      {
       "metadata": {},
       "output_type": "pyout",
       "prompt_number": 4,
       "text": [
        "PythonRDD[3] at RDD at PythonRDD.scala:43"
       ]
      }
     ],
     "prompt_number": 4
    },
    {
     "cell_type": "heading",
     "level": 2,
     "metadata": {},
     "source": [
      "Calculate the total number of events."
     ]
    },
    {
     "cell_type": "code",
     "collapsed": false,
     "input": [
      "events_rdd.count()"
     ],
     "language": "python",
     "metadata": {},
     "outputs": [
      {
       "metadata": {},
       "output_type": "pyout",
       "prompt_number": 5,
       "text": [
        "22"
       ]
      }
     ],
     "prompt_number": 5
    },
    {
     "cell_type": "heading",
     "level": 2,
     "metadata": {},
     "source": [
      "Display an event."
     ]
    },
    {
     "cell_type": "markdown",
     "metadata": {},
     "source": [
      "Get the first event in our dataset (which isn't ordered yet)."
     ]
    },
    {
     "cell_type": "code",
     "collapsed": false,
     "input": [
      "an_event = events_rdd.take(1)\n",
      "print json.dumps(an_event, indent=2)"
     ],
     "language": "python",
     "metadata": {},
     "outputs": [
      {
       "output_type": "stream",
       "stream": "stdout",
       "text": [
        "[\n",
        "  {\n",
        "    \"detectedCorruption\": false, \n",
        "    \"userAgentOsVendor\": \"Apple Computer, Inc.\", \n",
        "    \"referer\": \"http://localhost:8000/\", \n",
        "    \"eventType\": \"pageView\", \n",
        "    \"userAgentOsFamily\": \"OS X\", \n",
        "    \"viewportPixelHeight\": 918, \n",
        "    \"userAgentName\": \"Chrome\", \n",
        "    \"userAgentString\": \"Mozilla/5.0 (Macintosh; Intel Mac OS X 10_10_0) AppleWebKit/537.36 (KHTML, like Gecko) Chrome/38.0.2125.111 Safari/537.36\", \n",
        "    \"location\": \"http://localhost:8000/overview-summary.html\", \n",
        "    \"screenPixelHeight\": 1027, \n",
        "    \"userAgentVendor\": \"Google Inc.\", \n",
        "    \"firstInSession\": true, \n",
        "    \"userAgentDeviceCategory\": \"Personal computer\", \n",
        "    \"userAgentType\": \"Browser\", \n",
        "    \"timestamp\": 1415027725428, \n",
        "    \"viewportPixelWidth\": 852, \n",
        "    \"screenPixelWidth\": 1676, \n",
        "    \"detectedDuplicate\": false, \n",
        "    \"userAgentFamily\": \"Chrome\", \n",
        "    \"remoteHost\": \"0:0:0:0:0:0:0:1\", \n",
        "    \"pageViewId\": \"0:tvxtMmlPrQFT4Hv6aYcvxyiW0jITYAH9\", \n",
        "    \"userAgentOsVersion\": \"10.10.0\", \n",
        "    \"sessionId\": \"0:i21yz0pu:fKpuWbx5~cgW~8rLt4FYbLRWZFxJCDXf\", \n",
        "    \"userAgentVersion\": \"38.0.2125.111\", \n",
        "    \"partyId\": \"0:i21yz0pu:b4fxNa7rNBlk8Vvp4G2H0tgW76u2wrGf\"\n",
        "  }\n",
        "]\n"
       ]
      }
     ],
     "prompt_number": 6
    },
    {
     "cell_type": "heading",
     "level": 2,
     "metadata": {},
     "source": [
      "Longest Session"
     ]
    },
    {
     "cell_type": "markdown",
     "metadata": {},
     "source": [
      "Find the session with the most events."
     ]
    },
    {
     "cell_type": "code",
     "collapsed": false,
     "input": [
      "(longest_session_id, longest_session_count) = events_rdd \\\n",
      "        .map(lambda event: (event['sessionId'], 1)) \\\n",
      "        .reduceByKey(lambda x,y: x + y) \\\n",
      "        .reduce(lambda x,y: max(x, y, key=lambda (e, c): c))\n",
      "print \"Session with id '%s' has the most events: %d\" % (longest_session_id, longest_session_count)"
     ],
     "language": "python",
     "metadata": {},
     "outputs": [
      {
       "output_type": "stream",
       "stream": "stdout",
       "text": [
        "Session with id '0:i21yoxph:7NXOXIW3ohe5V76fEk48owG2cohlu2Fx' has the most events: 15\n"
       ]
      }
     ],
     "prompt_number": 7
    },
    {
     "cell_type": "markdown",
     "metadata": {},
     "source": [
      "Next, define a function that we can use to format timestamps."
     ]
    },
    {
     "cell_type": "code",
     "collapsed": true,
     "input": [
      "def timestamp_to_string(ts):\n",
      "    return datetime.fromtimestamp(ts / 1000.0).strftime('%Y-%m-%d %H:%M:%S')"
     ],
     "language": "python",
     "metadata": {},
     "outputs": [],
     "prompt_number": 8
    },
    {
     "cell_type": "markdown",
     "metadata": {},
     "source": [
      "Finally for the session with the most events, find the first 10 events."
     ]
    },
    {
     "cell_type": "code",
     "collapsed": false,
     "input": [
      "first_events = events_rdd \\\n",
      "    .filter(lambda event: event['sessionId'] == longest_session_id) \\\n",
      "    .map(lambda event: (event['location'], event['timestamp'])) \\\n",
      "    .takeOrdered(10, lambda event: event[1])\n",
      "print \"\\n\".join([\"%s: %s\" % (timestamp_to_string(ts), location) for (location, ts) in first_events])"
     ],
     "language": "python",
     "metadata": {},
     "outputs": [
      {
       "output_type": "stream",
       "stream": "stdout",
       "text": [
        "2014-11-03 16:12:05: http://localhost:8000/overview-summary.html\n",
        "2014-11-03 16:12:25: http://localhost:8000/org/apache/commons/lang3/CharEncoding.html\n",
        "2014-11-03 16:12:37: http://localhost:8000/org/apache/commons/lang3/time/DateFormatUtils.html\n",
        "2014-11-03 16:12:56: http://localhost:8000/org/apache/commons/lang3/SerializationUtils.html\n",
        "2014-11-03 16:13:07: http://localhost:8000/org/apache/commons/lang3/builder/StandardToStringStyle.html\n",
        "2014-11-03 16:13:18: http://localhost:8000/org/apache/commons/lang3/builder/ToStringBuilder.html\n",
        "2014-11-03 16:13:20: http://localhost:8000/org/apache/commons/lang3/tuple/Triple.html\n",
        "2014-11-03 16:13:33: http://localhost:8000/org/apache/commons/lang3/text/WordUtils.html\n",
        "2014-11-03 16:13:39: http://localhost:8000/org/apache/commons/lang3/BooleanUtils.html\n",
        "2014-11-03 16:13:46: http://localhost:8000/org/apache/commons/lang3/BitField.html\n"
       ]
      }
     ],
     "prompt_number": 9
    },
    {
     "cell_type": "markdown",
     "metadata": {},
     "source": [
      "----\n",
      "\n",
      "License\n",
      "=======\n",
      "\n",
      "\n",
      "This notebook is licensed under the terms of the [Apache License, Version 2.0](http://www.apache.org/licenses/LICENSE-2.0.html)."
     ]
    }
   ],
   "metadata": {}
  }
 ]
}