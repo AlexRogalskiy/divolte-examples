{
 "metadata": {
  "name": "",
  "signature": "sha256:e738060554ba27efdce7f37f774d8fdf8b616777bb1621e5c8ed05b574a0adf5"
 },
 "nbformat": 3,
 "nbformat_minor": 0,
 "worksheets": [
  {
   "cells": [
    {
     "cell_type": "code",
     "collapsed": false,
     "input": [
      "%pylab inline\n",
      "import json\n",
      "import pyspark.sql as sql\n",
      "import pandas as pd\n",
      "import numpy as np\n",
      "import seaborn as sns\n",
      "import sys\n",
      "from datetime import datetime\n",
      "sc.version"
     ],
     "language": "python",
     "metadata": {},
     "outputs": [
      {
       "output_type": "stream",
       "stream": "stdout",
       "text": [
        "Populating the interactive namespace from numpy and matplotlib\n"
       ]
      },
      {
       "metadata": {},
       "output_type": "pyout",
       "prompt_number": 1,
       "text": [
        "u'1.2.0'"
       ]
      }
     ],
     "prompt_number": 1
    },
    {
     "cell_type": "code",
     "collapsed": false,
     "input": [
      "events_rdd = sc.newAPIHadoopFile(\n",
      "        '/tmp/published/*.avro',\n",
      "        'org.apache.avro.mapreduce.AvroKeyInputFormat',\n",
      "        'org.apache.avro.mapred.AvroKey',\n",
      "        'org.apache.hadoop.io.NullWritable',\n",
      "        keyConverter='io.divolte.spark.pyspark.avro.AvroWrapperToJavaConverter')\\\n",
      ".map(lambda (k,v): k)\n",
      "\n",
      "events_rdd.cache()\n",
      "events_rdd.count()"
     ],
     "language": "python",
     "metadata": {},
     "outputs": [
      {
       "ename": "Py4JJavaError",
       "evalue": "An error occurred while calling z:org.apache.spark.api.python.PythonRDD.newAPIHadoopFile.\n: org.apache.hadoop.mapreduce.lib.input.InvalidInputException: Input Pattern file:/tmp/published/*.avro matches 0 files\n\tat org.apache.hadoop.mapreduce.lib.input.FileInputFormat.listStatus(FileInputFormat.java:285)\n\tat org.apache.hadoop.mapreduce.lib.input.FileInputFormat.getSplits(FileInputFormat.java:340)\n\tat org.apache.spark.rdd.NewHadoopRDD.getPartitions(NewHadoopRDD.scala:98)\n\tat org.apache.spark.rdd.RDD$$anonfun$partitions$2.apply(RDD.scala:205)\n\tat org.apache.spark.rdd.RDD$$anonfun$partitions$2.apply(RDD.scala:203)\n\tat scala.Option.getOrElse(Option.scala:120)\n\tat org.apache.spark.rdd.RDD.partitions(RDD.scala:203)\n\tat org.apache.spark.rdd.MappedRDD.getPartitions(MappedRDD.scala:28)\n\tat org.apache.spark.rdd.RDD$$anonfun$partitions$2.apply(RDD.scala:205)\n\tat org.apache.spark.rdd.RDD$$anonfun$partitions$2.apply(RDD.scala:203)\n\tat scala.Option.getOrElse(Option.scala:120)\n\tat org.apache.spark.rdd.RDD.partitions(RDD.scala:203)\n\tat org.apache.spark.rdd.RDD.take(RDD.scala:1060)\n\tat org.apache.spark.rdd.RDD.first(RDD.scala:1093)\n\tat org.apache.spark.api.python.SerDeUtil$.pairRDDToPython(SerDeUtil.scala:202)\n\tat org.apache.spark.api.python.PythonRDD$.newAPIHadoopFile(PythonRDD.scala:474)\n\tat org.apache.spark.api.python.PythonRDD.newAPIHadoopFile(PythonRDD.scala)\n\tat sun.reflect.NativeMethodAccessorImpl.invoke0(Native Method)\n\tat sun.reflect.NativeMethodAccessorImpl.invoke(NativeMethodAccessorImpl.java:62)\n\tat sun.reflect.DelegatingMethodAccessorImpl.invoke(DelegatingMethodAccessorImpl.java:43)\n\tat java.lang.reflect.Method.invoke(Method.java:483)\n\tat py4j.reflection.MethodInvoker.invoke(MethodInvoker.java:231)\n\tat py4j.reflection.ReflectionEngine.invoke(ReflectionEngine.java:379)\n\tat py4j.Gateway.invoke(Gateway.java:259)\n\tat py4j.commands.AbstractCommand.invokeMethod(AbstractCommand.java:133)\n\tat py4j.commands.CallCommand.execute(CallCommand.java:79)\n\tat py4j.GatewayConnection.run(GatewayConnection.java:207)\n\tat java.lang.Thread.run(Thread.java:745)\n",
       "output_type": "pyerr",
       "traceback": [
        "\u001b[0;31m---------------------------------------------------------------------------\u001b[0m\n\u001b[0;31mPy4JJavaError\u001b[0m                             Traceback (most recent call last)",
        "\u001b[0;32m<ipython-input-2-a488debf1876>\u001b[0m in \u001b[0;36m<module>\u001b[0;34m()\u001b[0m\n\u001b[1;32m      4\u001b[0m         \u001b[0;34m'org.apache.avro.mapred.AvroKey'\u001b[0m\u001b[0;34m,\u001b[0m\u001b[0;34m\u001b[0m\u001b[0m\n\u001b[1;32m      5\u001b[0m         \u001b[0;34m'org.apache.hadoop.io.NullWritable'\u001b[0m\u001b[0;34m,\u001b[0m\u001b[0;34m\u001b[0m\u001b[0m\n\u001b[0;32m----> 6\u001b[0;31m         keyConverter='io.divolte.spark.pyspark.avro.AvroWrapperToJavaConverter')\\\n\u001b[0m\u001b[1;32m      7\u001b[0m \u001b[0;34m.\u001b[0m\u001b[0mmap\u001b[0m\u001b[0;34m(\u001b[0m\u001b[0;32mlambda\u001b[0m \u001b[0;34m(\u001b[0m\u001b[0mk\u001b[0m\u001b[0;34m,\u001b[0m\u001b[0mv\u001b[0m\u001b[0;34m)\u001b[0m\u001b[0;34m:\u001b[0m \u001b[0mk\u001b[0m\u001b[0;34m)\u001b[0m\u001b[0;34m\u001b[0m\u001b[0m\n\u001b[1;32m      8\u001b[0m \u001b[0;34m\u001b[0m\u001b[0m\n",
        "\u001b[0;32m/Users/friso/dev/spark-1.2.0-bin-hadoop2.3/python/pyspark/context.pyc\u001b[0m in \u001b[0;36mnewAPIHadoopFile\u001b[0;34m(self, path, inputFormatClass, keyClass, valueClass, keyConverter, valueConverter, conf, batchSize)\u001b[0m\n\u001b[1;32m    501\u001b[0m         jrdd = self._jvm.PythonRDD.newAPIHadoopFile(self._jsc, path, inputFormatClass, keyClass,\n\u001b[1;32m    502\u001b[0m                                                     \u001b[0mvalueClass\u001b[0m\u001b[0;34m,\u001b[0m \u001b[0mkeyConverter\u001b[0m\u001b[0;34m,\u001b[0m \u001b[0mvalueConverter\u001b[0m\u001b[0;34m,\u001b[0m\u001b[0;34m\u001b[0m\u001b[0m\n\u001b[0;32m--> 503\u001b[0;31m                                                     jconf, batchSize)\n\u001b[0m\u001b[1;32m    504\u001b[0m         \u001b[0;32mreturn\u001b[0m \u001b[0mRDD\u001b[0m\u001b[0;34m(\u001b[0m\u001b[0mjrdd\u001b[0m\u001b[0;34m,\u001b[0m \u001b[0mself\u001b[0m\u001b[0;34m)\u001b[0m\u001b[0;34m\u001b[0m\u001b[0m\n\u001b[1;32m    505\u001b[0m \u001b[0;34m\u001b[0m\u001b[0m\n",
        "\u001b[0;32m/Users/friso/dev/spark-1.2.0-bin-hadoop2.3/python/lib/py4j-0.8.2.1-src.zip/py4j/java_gateway.py\u001b[0m in \u001b[0;36m__call__\u001b[0;34m(self, *args)\u001b[0m\n\u001b[1;32m    536\u001b[0m         \u001b[0manswer\u001b[0m \u001b[0;34m=\u001b[0m \u001b[0mself\u001b[0m\u001b[0;34m.\u001b[0m\u001b[0mgateway_client\u001b[0m\u001b[0;34m.\u001b[0m\u001b[0msend_command\u001b[0m\u001b[0;34m(\u001b[0m\u001b[0mcommand\u001b[0m\u001b[0;34m)\u001b[0m\u001b[0;34m\u001b[0m\u001b[0m\n\u001b[1;32m    537\u001b[0m         return_value = get_return_value(answer, self.gateway_client,\n\u001b[0;32m--> 538\u001b[0;31m                 self.target_id, self.name)\n\u001b[0m\u001b[1;32m    539\u001b[0m \u001b[0;34m\u001b[0m\u001b[0m\n\u001b[1;32m    540\u001b[0m         \u001b[0;32mfor\u001b[0m \u001b[0mtemp_arg\u001b[0m \u001b[0;32min\u001b[0m \u001b[0mtemp_args\u001b[0m\u001b[0;34m:\u001b[0m\u001b[0;34m\u001b[0m\u001b[0m\n",
        "\u001b[0;32m/Users/friso/dev/spark-1.2.0-bin-hadoop2.3/python/lib/py4j-0.8.2.1-src.zip/py4j/protocol.py\u001b[0m in \u001b[0;36mget_return_value\u001b[0;34m(answer, gateway_client, target_id, name)\u001b[0m\n\u001b[1;32m    298\u001b[0m                 raise Py4JJavaError(\n\u001b[1;32m    299\u001b[0m                     \u001b[0;34m'An error occurred while calling {0}{1}{2}.\\n'\u001b[0m\u001b[0;34m.\u001b[0m\u001b[0;34m\u001b[0m\u001b[0m\n\u001b[0;32m--> 300\u001b[0;31m                     format(target_id, '.', name), value)\n\u001b[0m\u001b[1;32m    301\u001b[0m             \u001b[0;32melse\u001b[0m\u001b[0;34m:\u001b[0m\u001b[0;34m\u001b[0m\u001b[0m\n\u001b[1;32m    302\u001b[0m                 raise Py4JError(\n",
        "\u001b[0;31mPy4JJavaError\u001b[0m: An error occurred while calling z:org.apache.spark.api.python.PythonRDD.newAPIHadoopFile.\n: org.apache.hadoop.mapreduce.lib.input.InvalidInputException: Input Pattern file:/tmp/published/*.avro matches 0 files\n\tat org.apache.hadoop.mapreduce.lib.input.FileInputFormat.listStatus(FileInputFormat.java:285)\n\tat org.apache.hadoop.mapreduce.lib.input.FileInputFormat.getSplits(FileInputFormat.java:340)\n\tat org.apache.spark.rdd.NewHadoopRDD.getPartitions(NewHadoopRDD.scala:98)\n\tat org.apache.spark.rdd.RDD$$anonfun$partitions$2.apply(RDD.scala:205)\n\tat org.apache.spark.rdd.RDD$$anonfun$partitions$2.apply(RDD.scala:203)\n\tat scala.Option.getOrElse(Option.scala:120)\n\tat org.apache.spark.rdd.RDD.partitions(RDD.scala:203)\n\tat org.apache.spark.rdd.MappedRDD.getPartitions(MappedRDD.scala:28)\n\tat org.apache.spark.rdd.RDD$$anonfun$partitions$2.apply(RDD.scala:205)\n\tat org.apache.spark.rdd.RDD$$anonfun$partitions$2.apply(RDD.scala:203)\n\tat scala.Option.getOrElse(Option.scala:120)\n\tat org.apache.spark.rdd.RDD.partitions(RDD.scala:203)\n\tat org.apache.spark.rdd.RDD.take(RDD.scala:1060)\n\tat org.apache.spark.rdd.RDD.first(RDD.scala:1093)\n\tat org.apache.spark.api.python.SerDeUtil$.pairRDDToPython(SerDeUtil.scala:202)\n\tat org.apache.spark.api.python.PythonRDD$.newAPIHadoopFile(PythonRDD.scala:474)\n\tat org.apache.spark.api.python.PythonRDD.newAPIHadoopFile(PythonRDD.scala)\n\tat sun.reflect.NativeMethodAccessorImpl.invoke0(Native Method)\n\tat sun.reflect.NativeMethodAccessorImpl.invoke(NativeMethodAccessorImpl.java:62)\n\tat sun.reflect.DelegatingMethodAccessorImpl.invoke(DelegatingMethodAccessorImpl.java:43)\n\tat java.lang.reflect.Method.invoke(Method.java:483)\n\tat py4j.reflection.MethodInvoker.invoke(MethodInvoker.java:231)\n\tat py4j.reflection.ReflectionEngine.invoke(ReflectionEngine.java:379)\n\tat py4j.Gateway.invoke(Gateway.java:259)\n\tat py4j.commands.AbstractCommand.invokeMethod(AbstractCommand.java:133)\n\tat py4j.commands.CallCommand.execute(CallCommand.java:79)\n\tat py4j.GatewayConnection.run(GatewayConnection.java:207)\n\tat java.lang.Thread.run(Thread.java:745)\n"
       ]
      }
     ],
     "prompt_number": 2
    },
    {
     "cell_type": "code",
     "collapsed": false,
     "input": [
      "BIN = 60000\n",
      "pd.DataFrame.from_dict(events_rdd\\\n",
      ".filter(lambda e: e['firstInSession'])\\\n",
      ".map(lambda e: (e['timestamp'] / BIN, 1))\\\n",
      ".reduceByKey(lambda x,y: x+y)\\\n",
      ".map(lambda (ts,cnt): {'time': datetime.fromtimestamp(ts * BIN / 1000), 'count': cnt})\\\n",
      ".collect()).plot(x='time', y='count', kind='bar', title='Sessions over time', legend=False)"
     ],
     "language": "python",
     "metadata": {},
     "outputs": [
      {
       "metadata": {},
       "output_type": "pyout",
       "prompt_number": 39,
       "text": [
        "<matplotlib.axes._subplots.AxesSubplot at 0x10c77b390>"
       ]
      },
      {
       "metadata": {},
       "output_type": "display_data",
       "png": "[encoded data removed]",
       "text": [
        "<matplotlib.figure.Figure at 0x10c613210>"
       ]
      }
     ],
     "prompt_number": 39
    },
    {
     "cell_type": "code",
     "collapsed": false,
     "input": [
      "pd.DataFrame.from_dict(events_rdd\\\n",
      ".filter(lambda e: e['pageType'] == 'search')\\\n",
      ".map(lambda e: (e['timestamp'] / BIN, 1))\\\n",
      ".reduceByKey(lambda x,y: x+y)\\\n",
      ".map(lambda (ts,cnt): {'time': datetime.fromtimestamp(ts * BIN / 1000), 'count': cnt})\\\n",
      ".collect()).plot(x='time', y='count', kind='bar', title='Searches over time', legend=False)"
     ],
     "language": "python",
     "metadata": {},
     "outputs": [
      {
       "metadata": {},
       "output_type": "pyout",
       "prompt_number": 40,
       "text": [
        "<matplotlib.axes._subplots.AxesSubplot at 0x10c77e7d0>"
       ]
      },
      {
       "metadata": {},
       "output_type": "display_data",
       "png": "[encoded data removed]",
       "text": [
        "<matplotlib.figure.Figure at 0x10c8f1cd0>"
       ]
      }
     ],
     "prompt_number": 40
    },
    {
     "cell_type": "code",
     "collapsed": false,
     "input": [
      "pd.DataFrame.from_dict(events_rdd\\\n",
      ".filter(lambda e: e['isSearchResult'])\\\n",
      ".map(lambda e: (e['timestamp'] / BIN, 1))\\\n",
      ".reduceByKey(lambda x,y: x+y)\\\n",
      ".map(lambda (ts,cnt): {'time': datetime.fromtimestamp(ts * BIN / 1000), 'count': cnt})\\\n",
      ".collect()).plot(x='time', y='count', kind='bar', title='Search result hits over time', legend=False)"
     ],
     "language": "python",
     "metadata": {},
     "outputs": [
      {
       "metadata": {},
       "output_type": "pyout",
       "prompt_number": 41,
       "text": [
        "<matplotlib.axes._subplots.AxesSubplot at 0x10c8304d0>"
       ]
      },
      {
       "metadata": {},
       "output_type": "display_data",
       "png": "[encoded data removed]",
       "text": [
        "<matplotlib.figure.Figure at 0x10c9b9f50>"
       ]
      }
     ],
     "prompt_number": 41
    },
    {
     "cell_type": "code",
     "collapsed": false,
     "input": [
      "def search_fragments(session):\n",
      "    def fragment_dict(\n",
      "            start_time,\n",
      "            phrase,\n",
      "            num_results,\n",
      "            time_to_first_result,\n",
      "            time_to_next_search,\n",
      "            event_count,\n",
      "            results):\n",
      "        return {\n",
      "                    'start_time': start_time,\n",
      "                    'phrase': phrase,\n",
      "                    'num_results': num_results,\n",
      "                    'time_to_first_result': None if time_to_first_result == sys.maxint else time_to_first_result,\n",
      "                    'time_to_next_search': None if time_to_next_search == sys.maxint else time_to_next_search,\n",
      "                    'event_count': event_count,\n",
      "                    'results': results\n",
      "               }\n",
      "\n",
      "    phrase = None\n",
      "    start_time = sys.maxint\n",
      "    num_results = 0\n",
      "    time_to_first_result = sys.maxint\n",
      "    event_count = 0\n",
      "    results = []\n",
      "    \n",
      "    for event in session:\n",
      "        if (event['pageType'] == 'search') and (event['searchPhrase'] != phrase):\n",
      "            if phrase:\n",
      "                yield fragment_dict(start_time, phrase, num_results, time_to_first_result,\n",
      "                                    event['timestamp'] - start_time, event_count, results)\n",
      "                \n",
      "            start_time = event['timestamp']\n",
      "            phrase = event['searchPhrase']\n",
      "            num_results = 0\n",
      "            time_to_first_result = sys.maxint\n",
      "            event_count = 0\n",
      "            results = []\n",
      "        elif event['pageType'] != 'search' and event['isSearchResult']:\n",
      "            num_results += 1\n",
      "            time_to_first_result = min(time_to_first_result, event['timestamp'] - start_time)\n",
      "            results += [ { 'type': event['javaType'], 'package': event['javaPackage'] } ]\n",
      "\n",
      "        event_count += 1\n",
      "    \n",
      "    if phrase:\n",
      "        yield fragment_dict(start_time, phrase, num_results, time_to_first_result,\n",
      "                            sys.maxint, event_count, results)"
     ],
     "language": "python",
     "metadata": {},
     "outputs": [],
     "prompt_number": 68
    },
    {
     "cell_type": "code",
     "collapsed": false,
     "input": [
      "def search_extraction((id, session)):\n",
      "    return [sf for sf in search_fragments(session)]"
     ],
     "language": "python",
     "metadata": {},
     "outputs": [],
     "prompt_number": 69
    },
    {
     "cell_type": "code",
     "collapsed": false,
     "input": [
      "searches = events_rdd.keyBy(lambda e: e['sessionId']).groupByKey().flatMap(search_extraction)\n",
      "df = pd.DataFrame.from_dict(searches.collect())"
     ],
     "language": "python",
     "metadata": {},
     "outputs": [],
     "prompt_number": 70
    },
    {
     "cell_type": "code",
     "collapsed": false,
     "input": [
      "pd.DataFrame.from_dict(searches.take(10))"
     ],
     "language": "python",
     "metadata": {},
     "outputs": [
      {
       "html": [
        "<div style=\"max-height:1000px;max-width:1500px;overflow:auto;\">\n",
        "<table border=\"1\" class=\"dataframe\">\n",
        "  <thead>\n",
        "    <tr style=\"text-align: right;\">\n",
        "      <th></th>\n",
        "      <th>event_count</th>\n",
        "      <th>num_results</th>\n",
        "      <th>phrase</th>\n",
        "      <th>results</th>\n",
        "      <th>start_time</th>\n",
        "      <th>time_to_first_result</th>\n",
        "      <th>time_to_next_search</th>\n",
        "    </tr>\n",
        "  </thead>\n",
        "  <tbody>\n",
        "    <tr>\n",
        "      <th>0</th>\n",
        "      <td> 1</td>\n",
        "      <td> 0</td>\n",
        "      <td>     dependency injection</td>\n",
        "      <td>                                                []</td>\n",
        "      <td> 1421403612835</td>\n",
        "      <td>  NaN</td>\n",
        "      <td>   NaN</td>\n",
        "    </tr>\n",
        "    <tr>\n",
        "      <th>1</th>\n",
        "      <td> 1</td>\n",
        "      <td> 0</td>\n",
        "      <td>                    utils</td>\n",
        "      <td>                                                []</td>\n",
        "      <td> 1421403647044</td>\n",
        "      <td>  NaN</td>\n",
        "      <td>  7377</td>\n",
        "    </tr>\n",
        "    <tr>\n",
        "      <th>2</th>\n",
        "      <td> 2</td>\n",
        "      <td> 1</td>\n",
        "      <td>        utils inheritance</td>\n",
        "      <td> [{u'type': u'InheritanceUtils', u'package': u'...</td>\n",
        "      <td> 1421403654421</td>\n",
        "      <td> 2522</td>\n",
        "      <td>   NaN</td>\n",
        "    </tr>\n",
        "    <tr>\n",
        "      <th>3</th>\n",
        "      <td> 6</td>\n",
        "      <td> 2</td>\n",
        "      <td>             string escpe</td>\n",
        "      <td> [{u'type': u'StringEscapeUtils', u'package': u...</td>\n",
        "      <td> 1421403488435</td>\n",
        "      <td> 4559</td>\n",
        "      <td> 22836</td>\n",
        "    </tr>\n",
        "    <tr>\n",
        "      <th>4</th>\n",
        "      <td> 1</td>\n",
        "      <td> 0</td>\n",
        "      <td>      string escape regex</td>\n",
        "      <td>                                                []</td>\n",
        "      <td> 1421403517405</td>\n",
        "      <td>  NaN</td>\n",
        "      <td>   NaN</td>\n",
        "    </tr>\n",
        "    <tr>\n",
        "      <th>5</th>\n",
        "      <td> 1</td>\n",
        "      <td> 0</td>\n",
        "      <td>                    utils</td>\n",
        "      <td>                                                []</td>\n",
        "      <td> 1421403664889</td>\n",
        "      <td>  NaN</td>\n",
        "      <td>  3629</td>\n",
        "    </tr>\n",
        "    <tr>\n",
        "      <th>6</th>\n",
        "      <td> 2</td>\n",
        "      <td> 1</td>\n",
        "      <td>              utils event</td>\n",
        "      <td> [{u'type': u'EventUtils', u'package': u'org/ap...</td>\n",
        "      <td> 1421403668518</td>\n",
        "      <td> 2675</td>\n",
        "      <td>   NaN</td>\n",
        "    </tr>\n",
        "    <tr>\n",
        "      <th>7</th>\n",
        "      <td> 4</td>\n",
        "      <td> 2</td>\n",
        "      <td> boolean to string yes no</td>\n",
        "      <td> [{u'type': u'StringUtils', u'package': u'org/a...</td>\n",
        "      <td> 1421403536262</td>\n",
        "      <td> 3436</td>\n",
        "      <td>   NaN</td>\n",
        "    </tr>\n",
        "    <tr>\n",
        "      <th>8</th>\n",
        "      <td> 1</td>\n",
        "      <td> 0</td>\n",
        "      <td>                   hadoop</td>\n",
        "      <td>                                                []</td>\n",
        "      <td> 1421403626255</td>\n",
        "      <td>  NaN</td>\n",
        "      <td>  4982</td>\n",
        "    </tr>\n",
        "    <tr>\n",
        "      <th>9</th>\n",
        "      <td> 1</td>\n",
        "      <td> 0</td>\n",
        "      <td>              HadoopUtils</td>\n",
        "      <td>                                                []</td>\n",
        "      <td> 1421403631237</td>\n",
        "      <td>  NaN</td>\n",
        "      <td>  5556</td>\n",
        "    </tr>\n",
        "  </tbody>\n",
        "</table>\n",
        "</div>"
       ],
       "metadata": {},
       "output_type": "pyout",
       "prompt_number": 71,
       "text": [
        "   event_count  num_results                    phrase  \\\n",
        "0            1            0      dependency injection   \n",
        "1            1            0                     utils   \n",
        "2            2            1         utils inheritance   \n",
        "3            6            2              string escpe   \n",
        "4            1            0       string escape regex   \n",
        "5            1            0                     utils   \n",
        "6            2            1               utils event   \n",
        "7            4            2  boolean to string yes no   \n",
        "8            1            0                    hadoop   \n",
        "9            1            0               HadoopUtils   \n",
        "\n",
        "                                             results     start_time  \\\n",
        "0                                                 []  1421403612835   \n",
        "1                                                 []  1421403647044   \n",
        "2  [{u'type': u'InheritanceUtils', u'package': u'...  1421403654421   \n",
        "3  [{u'type': u'StringEscapeUtils', u'package': u...  1421403488435   \n",
        "4                                                 []  1421403517405   \n",
        "5                                                 []  1421403664889   \n",
        "6  [{u'type': u'EventUtils', u'package': u'org/ap...  1421403668518   \n",
        "7  [{u'type': u'StringUtils', u'package': u'org/a...  1421403536262   \n",
        "8                                                 []  1421403626255   \n",
        "9                                                 []  1421403631237   \n",
        "\n",
        "   time_to_first_result  time_to_next_search  \n",
        "0                   NaN                  NaN  \n",
        "1                   NaN                 7377  \n",
        "2                  2522                  NaN  \n",
        "3                  4559                22836  \n",
        "4                   NaN                  NaN  \n",
        "5                   NaN                 3629  \n",
        "6                  2675                  NaN  \n",
        "7                  3436                  NaN  \n",
        "8                   NaN                 4982  \n",
        "9                   NaN                 5556  "
       ]
      }
     ],
     "prompt_number": 71
    },
    {
     "cell_type": "code",
     "collapsed": false,
     "input": [
      "successes = searches.filter(lambda s: s['num_results'] > 0)\n",
      "suggestions = successes.map(lambda s: (s['phrase'], 1)).reduceByKey(lambda x,y: x+y)\n",
      "suggestions.take(2)"
     ],
     "language": "python",
     "metadata": {},
     "outputs": [
      {
       "metadata": {},
       "output_type": "pyout",
       "prompt_number": 72,
       "text": [
        "[(u'utils event', 1), (u'utils inheritance', 1)]"
       ]
      }
     ],
     "prompt_number": 72
    },
    {
     "cell_type": "code",
     "collapsed": false,
     "input": [
      "top_hits = successes\\\n",
      ".map(lambda s: ((s['phrase'], frozenset(s['results'][-1].items())), 1))\\\n",
      ".reduceByKey(lambda x,y: x+y)\\\n",
      ".map(lambda ((l,r), cnt): (l, [(dict(r), cnt)]))\\\n",
      ".reduceByKey(lambda x,y: sorted(x + y, key=lambda (r,c): c)[:5])\n",
      "\n",
      "top_hits.take(2)"
     ],
     "language": "python",
     "metadata": {},
     "outputs": [
      {
       "metadata": {},
       "output_type": "pyout",
       "prompt_number": 73,
       "text": [
        "[(u'utils event',\n",
        "  [({'package': u'org/apache/commons/lang3/event', 'type': u'EventUtils'},\n",
        "    1)]),\n",
        " (u'utils inheritance',\n",
        "  [({'package': u'org/apache/commons/lang3/reflect',\n",
        "     'type': u'InheritanceUtils'},\n",
        "    1)])]"
       ]
      }
     ],
     "prompt_number": 73
    },
    {
     "cell_type": "code",
     "collapsed": false,
     "input": [
      "completions = suggestions.join(top_hits)\\\n",
      ".map(lambda (phrase, (cnt, hits)): {\n",
      "    'phrase': phrase,\n",
      "    'weight': cnt,\n",
      "    'top_hits': [\n",
      "        {\n",
      "            'name': hit['package'].replace('/','.') + hit['type'],\n",
      "            'link': '/static/javadoc/%s/%s.html' % (hit['package'], hit['type'])\n",
      "        }\n",
      "        for hit, hit_cnt in hits\n",
      "    ]\n",
      "})\n",
      "completions.take(1)"
     ],
     "language": "python",
     "metadata": {},
     "outputs": [
      {
       "metadata": {},
       "output_type": "pyout",
       "prompt_number": 74,
       "text": [
        "[{'phrase': u'utils event',\n",
        "  'top_hits': [{'link': u'/static/javadoc/org/apache/commons/lang3/event/EventUtils.html',\n",
        "    'name': u'org.apache.commons.lang3.eventEventUtils'}],\n",
        "  'weight': 1}]"
       ]
      }
     ],
     "prompt_number": 74
    },
    {
     "cell_type": "code",
     "collapsed": false,
     "input": [
      "df.plot(y = 'time_to_first_result', kind='density', legend=False, title='Density of time to first result click')"
     ],
     "language": "python",
     "metadata": {},
     "outputs": [
      {
       "metadata": {},
       "output_type": "pyout",
       "prompt_number": 28,
       "text": [
        "<matplotlib.axes._subplots.AxesSubplot at 0x10c4b8550>"
       ]
      },
      {
       "metadata": {},
       "output_type": "display_data",
       "png": "[encoded data removed]",
       "text": [
        "<matplotlib.figure.Figure at 0x10c6bba50>"
       ]
      }
     ],
     "prompt_number": 28
    },
    {
     "cell_type": "code",
     "collapsed": false,
     "input": [
      "df.plot(y = 'time_to_first_result', kind='hist', legend=False, title='Hist of time to first result click')"
     ],
     "language": "python",
     "metadata": {},
     "outputs": [
      {
       "metadata": {},
       "output_type": "pyout",
       "prompt_number": 29,
       "text": [
        "<matplotlib.axes._subplots.AxesSubplot at 0x10c6dd5d0>"
       ]
      },
      {
       "metadata": {},
       "output_type": "display_data",
       "png": "[encoded data removed]",
       "text": [
        "<matplotlib.figure.Figure at 0x10c6cae50>"
       ]
      }
     ],
     "prompt_number": 29
    },
    {
     "cell_type": "markdown",
     "metadata": {},
     "source": [
      "License\n",
      "=======\n",
      "\n",
      "This notebook is licensed under the terms of the [Apache License, Version 2.0](http://www.apache.org/licenses/LICENSE-2.0.html)."
     ]
    }
   ],
   "metadata": {}
  }
 ]
}