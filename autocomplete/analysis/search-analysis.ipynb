{
 "metadata": {
  "name": "",
  "signature": "sha256:8e7a0b91246b73dbb84fec0d9eb56d758fc743346eb5c0f805d450fdd8097dda"
 },
 "nbformat": 3,
 "nbformat_minor": 0,
 "worksheets": [
  {
   "cells": [
    {
     "cell_type": "code",
     "collapsed": false,
     "input": [
      "%pylab inline\n",
      "import json\n",
      "import pyspark.sql as sql\n",
      "import pandas as pd\n",
      "import numpy as np\n",
      "import seaborn as sns\n",
      "import sys\n",
      "from datetime import datetime\n",
      "from extraction import search_fragments\n",
      "sc.version"
     ],
     "language": "python",
     "metadata": {},
     "outputs": [
      {
       "output_type": "stream",
       "stream": "stdout",
       "text": [
        "Populating the interactive namespace from numpy and matplotlib\n"
       ]
      },
      {
       "output_type": "stream",
       "stream": "stderr",
       "text": [
        "WARNING: pylab import has clobbered these variables: ['datetime']\n",
        "`%matplotlib` prevents importing * from pylab and numpy\n"
       ]
      },
      {
       "metadata": {},
       "output_type": "pyout",
       "prompt_number": 6,
       "text": [
        "u'1.2.0'"
       ]
      }
     ],
     "prompt_number": 6
    },
    {
     "cell_type": "code",
     "collapsed": false,
     "input": [
      "events_rdd = sc.newAPIHadoopFile(\n",
      "        '/tmp/published/*.avro',\n",
      "        'org.apache.avro.mapreduce.AvroKeyInputFormat',\n",
      "        'org.apache.avro.mapred.AvroKey',\n",
      "        'org.apache.hadoop.io.NullWritable',\n",
      "        keyConverter='io.divolte.spark.pyspark.avro.AvroWrapperToJavaConverter')\\\n",
      ".map(lambda (k,v): k)\n",
      "\n",
      "events_rdd.cache()\n",
      "events_rdd.count()"
     ],
     "language": "python",
     "metadata": {},
     "outputs": [
      {
       "metadata": {},
       "output_type": "pyout",
       "prompt_number": 2,
       "text": [
        "28"
       ]
      }
     ],
     "prompt_number": 2
    },
    {
     "cell_type": "code",
     "collapsed": false,
     "input": [
      "BIN = 60000\n",
      "pd.DataFrame.from_dict(events_rdd\\\n",
      ".filter(lambda e: e['firstInSession'])\\\n",
      ".map(lambda e: (e['timestamp'] / BIN, 1))\\\n",
      ".reduceByKey(lambda x,y: x+y)\\\n",
      ".map(lambda (ts,cnt): {'time': datetime.fromtimestamp(ts * BIN / 1000), 'count': cnt})\\\n",
      ".collect()).plot(x='time', y='count', kind='bar', title='Sessions over time', legend=False)"
     ],
     "language": "python",
     "metadata": {},
     "outputs": [
      {
       "metadata": {},
       "output_type": "pyout",
       "prompt_number": 3,
       "text": [
        "<matplotlib.axes._subplots.AxesSubplot at 0x10c29a990>"
       ]
      },
      {
       "metadata": {},
       "output_type": "display_data",
       "png": "[encoded data removed]",
       "text": [
        "<matplotlib.figure.Figure at 0x10c29add0>"
       ]
      }
     ],
     "prompt_number": 3
    },
    {
     "cell_type": "code",
     "collapsed": false,
     "input": [
      "pd.DataFrame.from_dict(events_rdd\\\n",
      ".filter(lambda e: e['pageType'] == 'search')\\\n",
      ".map(lambda e: (e['timestamp'] / BIN, 1))\\\n",
      ".reduceByKey(lambda x,y: x+y)\\\n",
      ".map(lambda (ts,cnt): {'time': datetime.fromtimestamp(ts * BIN / 1000), 'count': cnt})\\\n",
      ".collect()).plot(x='time', y='count', kind='bar', title='Searches over time', legend=False)"
     ],
     "language": "python",
     "metadata": {},
     "outputs": [
      {
       "metadata": {},
       "output_type": "pyout",
       "prompt_number": 4,
       "text": [
        "<matplotlib.axes._subplots.AxesSubplot at 0x109ec0090>"
       ]
      },
      {
       "metadata": {},
       "output_type": "display_data",
       "png": "[encoded data removed]",
       "text": [
        "<matplotlib.figure.Figure at 0x103229150>"
       ]
      }
     ],
     "prompt_number": 4
    },
    {
     "cell_type": "code",
     "collapsed": false,
     "input": [
      "pd.DataFrame.from_dict(events_rdd\\\n",
      ".filter(lambda e: e['isSearchResult'])\\\n",
      ".map(lambda e: (e['timestamp'] / BIN, 1))\\\n",
      ".reduceByKey(lambda x,y: x+y)\\\n",
      ".map(lambda (ts,cnt): {'time': datetime.fromtimestamp(ts * BIN / 1000), 'count': cnt})\\\n",
      ".collect()).plot(x='time', y='count', kind='bar', title='Search result hits over time', legend=False)"
     ],
     "language": "python",
     "metadata": {},
     "outputs": [
      {
       "metadata": {},
       "output_type": "pyout",
       "prompt_number": 5,
       "text": [
        "<matplotlib.axes._subplots.AxesSubplot at 0x109ec0f90>"
       ]
      },
      {
       "metadata": {},
       "output_type": "display_data",
       "png": "[encoded data removed]",
       "text": [
        "<matplotlib.figure.Figure at 0x109ebb350>"
       ]
      }
     ],
     "prompt_number": 5
    },
    {
     "cell_type": "code",
     "collapsed": false,
     "input": [
      "def search_extraction((id, session)):\n",
      "    return [sf for sf in search_fragments(session)]"
     ],
     "language": "python",
     "metadata": {},
     "outputs": [],
     "prompt_number": 7
    },
    {
     "cell_type": "code",
     "collapsed": false,
     "input": [
      "searches = events_rdd.keyBy(lambda e: e['sessionId']).groupByKey().flatMap(search_extraction)\n",
      "df = pd.DataFrame.from_dict(searches.collect())"
     ],
     "language": "python",
     "metadata": {},
     "outputs": [],
     "prompt_number": 8
    },
    {
     "cell_type": "code",
     "collapsed": false,
     "input": [
      "successes = searches.filter(lambda s: s['num_results'] > 0)\n",
      "suggestions = successes.map(lambda s: (s['phrase'], 1)).reduceByKey(lambda x,y: x+y)\n",
      "suggestions.collect()"
     ],
     "language": "python",
     "metadata": {},
     "outputs": [
      {
       "metadata": {},
       "output_type": "pyout",
       "prompt_number": 15,
       "text": [
        "[(u'utils event', 1),\n",
        " (u'utils inheritance', 1),\n",
        " (u'string escpe', 1),\n",
        " (u'boolean to string yes no', 1),\n",
        " (u'StringUtils', 1)]"
       ]
      }
     ],
     "prompt_number": 15
    },
    {
     "cell_type": "code",
     "collapsed": false,
     "input": [
      "pd.DataFrame.from_dict(searches.take(10))"
     ],
     "language": "python",
     "metadata": {},
     "outputs": [
      {
       "html": [
        "<div style=\"max-height:1000px;max-width:1500px;overflow:auto;\">\n",
        "<table border=\"1\" class=\"dataframe\">\n",
        "  <thead>\n",
        "    <tr style=\"text-align: right;\">\n",
        "      <th></th>\n",
        "      <th>event_count</th>\n",
        "      <th>num_results</th>\n",
        "      <th>phrase</th>\n",
        "      <th>results</th>\n",
        "      <th>start_time</th>\n",
        "      <th>time_to_first_result</th>\n",
        "      <th>time_to_next_search</th>\n",
        "    </tr>\n",
        "  </thead>\n",
        "  <tbody>\n",
        "    <tr>\n",
        "      <th>0</th>\n",
        "      <td> 1</td>\n",
        "      <td> 0</td>\n",
        "      <td>     dependency injection</td>\n",
        "      <td>                                                []</td>\n",
        "      <td> 1421403612835</td>\n",
        "      <td>  NaN</td>\n",
        "      <td>   NaN</td>\n",
        "    </tr>\n",
        "    <tr>\n",
        "      <th>1</th>\n",
        "      <td> 1</td>\n",
        "      <td> 0</td>\n",
        "      <td>                    utils</td>\n",
        "      <td>                                                []</td>\n",
        "      <td> 1421403647044</td>\n",
        "      <td>  NaN</td>\n",
        "      <td>  7377</td>\n",
        "    </tr>\n",
        "    <tr>\n",
        "      <th>2</th>\n",
        "      <td> 2</td>\n",
        "      <td> 1</td>\n",
        "      <td>        utils inheritance</td>\n",
        "      <td> [http://localhost:5000/static/javadoc/org/apac...</td>\n",
        "      <td> 1421403654421</td>\n",
        "      <td> 2522</td>\n",
        "      <td>   NaN</td>\n",
        "    </tr>\n",
        "    <tr>\n",
        "      <th>3</th>\n",
        "      <td> 6</td>\n",
        "      <td> 2</td>\n",
        "      <td>             string escpe</td>\n",
        "      <td> [http://localhost:5000/static/javadoc/org/apac...</td>\n",
        "      <td> 1421403488435</td>\n",
        "      <td> 4559</td>\n",
        "      <td> 22836</td>\n",
        "    </tr>\n",
        "    <tr>\n",
        "      <th>4</th>\n",
        "      <td> 1</td>\n",
        "      <td> 0</td>\n",
        "      <td>      string escape regex</td>\n",
        "      <td>                                                []</td>\n",
        "      <td> 1421403517405</td>\n",
        "      <td>  NaN</td>\n",
        "      <td>   NaN</td>\n",
        "    </tr>\n",
        "    <tr>\n",
        "      <th>5</th>\n",
        "      <td> 1</td>\n",
        "      <td> 0</td>\n",
        "      <td>                    utils</td>\n",
        "      <td>                                                []</td>\n",
        "      <td> 1421403664889</td>\n",
        "      <td>  NaN</td>\n",
        "      <td>  3629</td>\n",
        "    </tr>\n",
        "    <tr>\n",
        "      <th>6</th>\n",
        "      <td> 2</td>\n",
        "      <td> 1</td>\n",
        "      <td>              utils event</td>\n",
        "      <td> [http://localhost:5000/static/javadoc/org/apac...</td>\n",
        "      <td> 1421403668518</td>\n",
        "      <td> 2675</td>\n",
        "      <td>   NaN</td>\n",
        "    </tr>\n",
        "    <tr>\n",
        "      <th>7</th>\n",
        "      <td> 4</td>\n",
        "      <td> 2</td>\n",
        "      <td> boolean to string yes no</td>\n",
        "      <td> [http://localhost:5000/static/javadoc/org/apac...</td>\n",
        "      <td> 1421403536262</td>\n",
        "      <td> 3436</td>\n",
        "      <td>   NaN</td>\n",
        "    </tr>\n",
        "    <tr>\n",
        "      <th>8</th>\n",
        "      <td> 1</td>\n",
        "      <td> 0</td>\n",
        "      <td>                   hadoop</td>\n",
        "      <td>                                                []</td>\n",
        "      <td> 1421403626255</td>\n",
        "      <td>  NaN</td>\n",
        "      <td>  4982</td>\n",
        "    </tr>\n",
        "    <tr>\n",
        "      <th>9</th>\n",
        "      <td> 1</td>\n",
        "      <td> 0</td>\n",
        "      <td>              HadoopUtils</td>\n",
        "      <td>                                                []</td>\n",
        "      <td> 1421403631237</td>\n",
        "      <td>  NaN</td>\n",
        "      <td>  5556</td>\n",
        "    </tr>\n",
        "  </tbody>\n",
        "</table>\n",
        "</div>"
       ],
       "metadata": {},
       "output_type": "pyout",
       "prompt_number": 9,
       "text": [
        "   event_count  num_results                    phrase  \\\n",
        "0            1            0      dependency injection   \n",
        "1            1            0                     utils   \n",
        "2            2            1         utils inheritance   \n",
        "3            6            2              string escpe   \n",
        "4            1            0       string escape regex   \n",
        "5            1            0                     utils   \n",
        "6            2            1               utils event   \n",
        "7            4            2  boolean to string yes no   \n",
        "8            1            0                    hadoop   \n",
        "9            1            0               HadoopUtils   \n",
        "\n",
        "                                             results     start_time  \\\n",
        "0                                                 []  1421403612835   \n",
        "1                                                 []  1421403647044   \n",
        "2  [http://localhost:5000/static/javadoc/org/apac...  1421403654421   \n",
        "3  [http://localhost:5000/static/javadoc/org/apac...  1421403488435   \n",
        "4                                                 []  1421403517405   \n",
        "5                                                 []  1421403664889   \n",
        "6  [http://localhost:5000/static/javadoc/org/apac...  1421403668518   \n",
        "7  [http://localhost:5000/static/javadoc/org/apac...  1421403536262   \n",
        "8                                                 []  1421403626255   \n",
        "9                                                 []  1421403631237   \n",
        "\n",
        "   time_to_first_result  time_to_next_search  \n",
        "0                   NaN                  NaN  \n",
        "1                   NaN                 7377  \n",
        "2                  2522                  NaN  \n",
        "3                  4559                22836  \n",
        "4                   NaN                  NaN  \n",
        "5                   NaN                 3629  \n",
        "6                  2675                  NaN  \n",
        "7                  3436                  NaN  \n",
        "8                   NaN                 4982  \n",
        "9                   NaN                 5556  "
       ]
      }
     ],
     "prompt_number": 9
    },
    {
     "cell_type": "code",
     "collapsed": false,
     "input": [
      "df.plot(y = 'time_to_first_result', kind='density', legend=False, title='Density of time to first result click')"
     ],
     "language": "python",
     "metadata": {},
     "outputs": [
      {
       "metadata": {},
       "output_type": "pyout",
       "prompt_number": 10,
       "text": [
        "<matplotlib.axes._subplots.AxesSubplot at 0x109e6e7d0>"
       ]
      },
      {
       "metadata": {},
       "output_type": "display_data",
       "png": "[encoded data removed]",
       "text": [
        "<matplotlib.figure.Figure at 0x105430550>"
       ]
      }
     ],
     "prompt_number": 10
    },
    {
     "cell_type": "code",
     "collapsed": false,
     "input": [
      "df.plot(y = 'time_to_first_result', kind='hist', legend=False, title='Hist of time to first result click')"
     ],
     "language": "python",
     "metadata": {},
     "outputs": [
      {
       "metadata": {},
       "output_type": "pyout",
       "prompt_number": 11,
       "text": [
        "<matplotlib.axes._subplots.AxesSubplot at 0x10a1d04d0>"
       ]
      },
      {
       "metadata": {},
       "output_type": "display_data",
       "png": "[encoded data removed]",
       "text": [
        "<matplotlib.figure.Figure at 0x109faa150>"
       ]
      }
     ],
     "prompt_number": 11
    }
   ],
   "metadata": {}
  }
 ]
}